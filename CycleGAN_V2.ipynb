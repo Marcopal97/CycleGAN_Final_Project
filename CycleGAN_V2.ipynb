{
  "nbformat": 4,
  "nbformat_minor": 0,
  "metadata": {
    "colab": {
      "name": "CycleGAN_V2.ipynb",
      "provenance": [],
      "collapsed_sections": []
    },
    "kernelspec": {
      "name": "python3",
      "display_name": "Python 3"
    },
    "language_info": {
      "name": "python"
    },
    "accelerator": "GPU"
  },
  "cells": [
    {
      "cell_type": "markdown",
      "metadata": {
        "id": "a2Dq7Umu-Nlj"
      },
      "source": [
        "# **Modello del Discriminatore**"
      ]
    },
    {
      "cell_type": "code",
      "metadata": {
        "id": "jI9rJu3gDd4U",
        "colab": {
          "base_uri": "https://localhost:8080/"
        },
        "outputId": "5ad002df-f7ab-405f-bef0-15120b805ca3"
      },
      "source": [
        "from tensorflow.python.client import device_lib\n",
        "device_lib.list_local_devices()\n"
      ],
      "execution_count": null,
      "outputs": [
        {
          "output_type": "execute_result",
          "data": {
            "text/plain": [
              "[name: \"/device:CPU:0\"\n",
              " device_type: \"CPU\"\n",
              " memory_limit: 268435456\n",
              " locality {\n",
              " }\n",
              " incarnation: 443425103176271262, name: \"/device:GPU:0\"\n",
              " device_type: \"GPU\"\n",
              " memory_limit: 14509932544\n",
              " locality {\n",
              "   bus_id: 1\n",
              "   links {\n",
              "   }\n",
              " }\n",
              " incarnation: 9785932402853971004\n",
              " physical_device_desc: \"device: 0, name: Tesla T4, pci bus id: 0000:00:04.0, compute capability: 7.5\"]"
            ]
          },
          "metadata": {
            "tags": []
          },
          "execution_count": 1
        }
      ]
    },
    {
      "cell_type": "code",
      "metadata": {
        "id": "z6NWmhTB-SKf"
      },
      "source": [
        "import torch\n",
        "import torch.nn as nn\n",
        "\n",
        "# Layer convolutivo\n",
        "\n",
        "class Block(nn.Module):\n",
        "  def __init__(self, in_channels, out_channels, stride):\n",
        "    super().__init__()\n",
        "    self.conv = nn.Sequential(\n",
        "        # Il padding impostato in \"reflect mode\" (al posto degli zeri) aiuta ad eliminare gli artefatti dalle immagini\n",
        "        # Il bias viene impostato a True, in modo che nell'equazione di convoluzione\n",
        "        # f(x) = w*x + b appaia il termine \"b\", i cui valori dipendono dal kernel utilizzato.\n",
        "        nn.Conv2d(in_channels, out_channels, kernel_size=4, stride=stride, padding=1, bias=True, padding_mode=\"reflect\"),\n",
        "        nn. InstanceNorm2d(out_channels), # al posto della batch norm, la normalizzazione viene applicata prendendo ogni singolo campione di immagine\n",
        "        nn.LeakyReLU(0.2, inplace = True),\n",
        "    )\n",
        "\n",
        "  def forward(self, x):\n",
        "    return self.conv(x)"
      ],
      "execution_count": null,
      "outputs": []
    },
    {
      "cell_type": "code",
      "metadata": {
        "id": "AQMt7wIwBv5B"
      },
      "source": [
        "# Modello del discriminatore completo\n",
        "\n",
        "class Discriminator(nn.Module):\n",
        "  # il vettore \"features\" indica le dimensioni di output di ogni layer convolutivo\n",
        "  def __init__(self, in_channels = 3, features = [64, 128, 256, 512]):\n",
        "    super().__init__()\n",
        "    # Il primo layer convolutivo è lo stesso di quello prima creato, \n",
        "    # con l'eccezione che non viene applicata la normalizzazione.\n",
        "    self.initial = nn.Sequential(\n",
        "        nn.Conv2d(\n",
        "            in_channels,\n",
        "            features[0],\n",
        "            kernel_size = 4,\n",
        "            stride = 2,\n",
        "            padding = 1,\n",
        "            padding_mode = \"reflect\",\n",
        "        ),\n",
        "        nn.LeakyReLU(0.2, inplace=True)\n",
        "    ) # 256x256x3 --> 128x128x64\n",
        "\n",
        "    layers = []\n",
        "    in_channels = features[0]\n",
        "    # Downsampling path:\n",
        "    # - 128x128x64 ---> 64x64x128\n",
        "    # - 64x64x128 ---> 32x32x256\n",
        "    # - 32x32x256 ---> 31x31x512\n",
        "    for feature in features[1:]:\n",
        "      # Stride = 1 solo per l'ultimo layer\n",
        "      layers.append(Block(in_channels, feature, stride = 1 if feature == features[-1] else 2))\n",
        "      in_channels = feature # Nuova dimensione per l'input del successivo layer\n",
        "    # Aggiungiamo alla fine un layer convolutivo che serve a\n",
        "    # trasformare l'immagine da 512 --> 1 feature per la classificazione:\n",
        "    # 31x31x512 ---> 30x30x1\n",
        "    layers.append(nn.Conv2d(in_channels, 1, kernel_size=4, stride=1, padding=1, padding_mode=\"reflect\"))\n",
        "    self.model = nn.Sequential(*layers) # unwrap della lista all'interno del layer sequenziale\n",
        "\n",
        "\n",
        "  def forward(self, x):\n",
        "    x = self.initial(x)\n",
        "    # Applichiamo la sigmoide perchè l'output del discriminatore deve essere \n",
        "    # tra 0 ed 1.\n",
        "    return torch.sigmoid(self.model(x)) \n",
        "\n",
        "\n",
        "\n",
        "\n"
      ],
      "execution_count": null,
      "outputs": []
    },
    {
      "cell_type": "code",
      "metadata": {
        "id": "4HAyJ6LcH4-t",
        "colab": {
          "base_uri": "https://localhost:8080/"
        },
        "outputId": "108973e6-60fd-434c-b39a-d58687343ed6"
      },
      "source": [
        "# Test per il discriminatore\n",
        "def test_disc():\n",
        "  x = torch.randn((5, 3, 256, 256)) # 5 campioni di immagini 256*256 RGB\n",
        "  model = Discriminator(in_channels = 3)\n",
        "  preds = model(x)\n",
        "  print(model)\n",
        "  print(preds.shape) # 5x1x30x30 --> si applica una PatchGAN che valuta porzioni di 30x30 pixel nell'immagine\n",
        "\n",
        "test_disc()"
      ],
      "execution_count": null,
      "outputs": [
        {
          "output_type": "stream",
          "text": [
            "Discriminator(\n",
            "  (initial): Sequential(\n",
            "    (0): Conv2d(3, 64, kernel_size=(4, 4), stride=(2, 2), padding=(1, 1), padding_mode=reflect)\n",
            "    (1): LeakyReLU(negative_slope=0.2, inplace=True)\n",
            "  )\n",
            "  (model): Sequential(\n",
            "    (0): Block(\n",
            "      (conv): Sequential(\n",
            "        (0): Conv2d(64, 128, kernel_size=(4, 4), stride=(2, 2), padding=(1, 1), padding_mode=reflect)\n",
            "        (1): InstanceNorm2d(128, eps=1e-05, momentum=0.1, affine=False, track_running_stats=False)\n",
            "        (2): LeakyReLU(negative_slope=0.2, inplace=True)\n",
            "      )\n",
            "    )\n",
            "    (1): Block(\n",
            "      (conv): Sequential(\n",
            "        (0): Conv2d(128, 256, kernel_size=(4, 4), stride=(2, 2), padding=(1, 1), padding_mode=reflect)\n",
            "        (1): InstanceNorm2d(256, eps=1e-05, momentum=0.1, affine=False, track_running_stats=False)\n",
            "        (2): LeakyReLU(negative_slope=0.2, inplace=True)\n",
            "      )\n",
            "    )\n",
            "    (2): Block(\n",
            "      (conv): Sequential(\n",
            "        (0): Conv2d(256, 512, kernel_size=(4, 4), stride=(1, 1), padding=(1, 1), padding_mode=reflect)\n",
            "        (1): InstanceNorm2d(512, eps=1e-05, momentum=0.1, affine=False, track_running_stats=False)\n",
            "        (2): LeakyReLU(negative_slope=0.2, inplace=True)\n",
            "      )\n",
            "    )\n",
            "    (3): Conv2d(512, 1, kernel_size=(4, 4), stride=(1, 1), padding=(1, 1), padding_mode=reflect)\n",
            "  )\n",
            ")\n",
            "torch.Size([5, 1, 30, 30])\n"
          ],
          "name": "stdout"
        }
      ]
    },
    {
      "cell_type": "code",
      "metadata": {
        "id": "6Wu6tADTR4ob",
        "colab": {
          "base_uri": "https://localhost:8080/"
        },
        "outputId": "b6459fdf-18f3-4af3-9fc0-e9ab07f0010c"
      },
      "source": [
        "# Test per verificare la dimensione dell'output ad ogni layer\n",
        "#l1 = nn.Sequential(\n",
        "        #nn.Conv2d(\n",
        "            #512,\n",
        "            #1,\n",
        "           # kernel_size = 4,\n",
        "           # stride = 1,\n",
        "           # padding = 1,\n",
        "           # padding_mode = \"reflect\",\n",
        "        #),\n",
        "        #nn. InstanceNorm2d(512),\n",
        "        #nn.LeakyReLU(0.2, inplace=True)\n",
        "   # )\n",
        "#x = torch.randn((5, 512, 31, 31)) \n",
        "#preds = torch.sigmoid(l1(x))\n",
        "#print(preds.shape)"
      ],
      "execution_count": null,
      "outputs": [
        {
          "output_type": "stream",
          "text": [
            "torch.Size([5, 1, 30, 30])\n"
          ],
          "name": "stdout"
        }
      ]
    },
    {
      "cell_type": "markdown",
      "metadata": {
        "id": "Nc8PA_kpWgn-"
      },
      "source": [
        "# **Modello del Generatore**"
      ]
    },
    {
      "cell_type": "code",
      "metadata": {
        "id": "Y0-tO0JDuE2j"
      },
      "source": [
        "# Definisco i layer convolutivi standard e trasposti da utilizzarsi per il generatore\n",
        "\n",
        "class ConvBlock(nn.Module):\n",
        "  def __init__(self, in_channels, out_channels, down = True, use_activations = True, **kwargs):\n",
        "    super().__init__()\n",
        "    self.conv = nn.Sequential(\n",
        "        # kwargs contiene i parametri di kernel, stride e padding\n",
        "        nn.Conv2d(in_channels, out_channels, padding_mode=\"reflect\", **kwargs)\n",
        "        if down\n",
        "        else nn.ConvTranspose2d(in_channels, out_channels, **kwargs),\n",
        "        nn.InstanceNorm2d(out_channels),\n",
        "        # Se si usa una funzione di attivazione si inserisce la ReLU,\n",
        "        # altrimenti si inserisce la funzione identità\n",
        "        nn.ReLU(inplace = True) if use_activations else nn.Identity()\n",
        "    )\n",
        "\n",
        "  def forward(self, x):\n",
        "    return self.conv(x)"
      ],
      "execution_count": null,
      "outputs": []
    },
    {
      "cell_type": "code",
      "metadata": {
        "id": "KCkHk3Wgv8NB"
      },
      "source": [
        "# Definisco il modello per un Residual Block\n",
        "\n",
        "class ResidualBlock(nn.Module):\n",
        "  def __init__(self, channels):\n",
        "    super().__init__()\n",
        "    self.block = nn.Sequential(\n",
        "        ConvBlock(channels, channels, kernel_size = 3, padding = 1, stride = 1),\n",
        "        # Non uso la funzione di attivazione\n",
        "        ConvBlock(channels, channels, use_activations = False, kernel_size = 3, padding = 1, stride = 1)\n",
        "    )\n",
        "\n",
        "  def forward(self, x):\n",
        "    return x + self.block(x)"
      ],
      "execution_count": null,
      "outputs": []
    },
    {
      "cell_type": "code",
      "metadata": {
        "id": "EFKOQM6Hxj7g"
      },
      "source": [
        "# Modello del generatore\n",
        "\n",
        "class Generator(nn.Module):\n",
        "  # Il numero di blocchi residui di default è pari a 9,\n",
        "  # ciò ha senso quando l'immagine in input è di dimensioni 256x256 o maggiori,\n",
        "  # altrimenti per immagini di dimensione 128x128 o minori in genere si \n",
        "  # utilizzano 6 blocchi residui.\n",
        "  def __init__(self, img_channels, num_features = 64, num_residuals = 9):\n",
        "    super().__init__()\n",
        "    # Il primo layer non utilizza la normalizzazione\n",
        "    self.initial = nn.Sequential(\n",
        "        nn.Conv2d(img_channels, num_features, kernel_size=7, stride=1, padding=3, padding_mode=\"reflect\"),\n",
        "        nn.ReLU(inplace=True),\n",
        "    )\n",
        "    # downsampling path\n",
        "    self.down_blocks = nn.ModuleList(\n",
        "        [\n",
        "         ConvBlock(num_features, num_features*2, kernel_size = 3, stride = 2, padding = 1),\n",
        "         ConvBlock(num_features*2, num_features*4, kernel_size = 3, stride = 2, padding = 1),\n",
        "        ]\n",
        "    )\n",
        "\n",
        "    self.residual_blocks = nn.Sequential(\n",
        "        # Unwrap dei blocchi, 9 in totale\n",
        "        *[ResidualBlock(num_features*4) for _ in range(num_residuals)]\n",
        "    )\n",
        "\n",
        "    # upsampling path\n",
        "    self.up_blocks = nn.ModuleList(\n",
        "        [\n",
        "         # Il parametro di output_padding aggiunge un ulteriore padding all'output del layer (come mostrato dagli autori)\n",
        "         ConvBlock(num_features*4, num_features*2, down = False, kernel_size = 3, stride = 2, padding = 1, output_padding = 1),\n",
        "         ConvBlock(num_features*2, num_features, down = False, kernel_size = 3, stride = 2, padding = 1, output_padding = 1),\n",
        "        ]\n",
        "    )\n",
        "\n",
        "    # Ultimo layer convolutivo che mappa la feature map in un'immagine RGB (3 canali)\n",
        "    self.last = nn.Conv2d(num_features, img_channels, kernel_size=7, stride=1, padding=3, padding_mode=\"reflect\")\n",
        "\n",
        "  def forward(self, x):\n",
        "    x = self.initial(x)\n",
        "    for layer in self.down_blocks:\n",
        "      x = layer(x)\n",
        "    x = self.residual_blocks(x)\n",
        "    for layer in self.up_blocks:\n",
        "      x = layer(x)\n",
        "    return torch.tanh(self.last(x)) # I valori dei pixel variano tra -1 ed 1"
      ],
      "execution_count": null,
      "outputs": []
    },
    {
      "cell_type": "code",
      "metadata": {
        "colab": {
          "base_uri": "https://localhost:8080/"
        },
        "id": "uwl9_H5PXXKw",
        "outputId": "eb0e391c-5f47-440c-c38c-0d5e2a7f4691"
      },
      "source": [
        "# test dimensioni\n",
        "#num_features = 64\n",
        "#layer =  nn.Conv2d(num_features, 3, kernel_size=7, stride=1, padding=3, padding_mode=\"reflect\")\n",
        "#x = torch.randn((1, 64, 256, 256)) \n",
        "#out = layer(x)\n",
        "#print(out.shape)"
      ],
      "execution_count": null,
      "outputs": [
        {
          "output_type": "stream",
          "text": [
            "torch.Size([1, 3, 256, 256])\n"
          ],
          "name": "stdout"
        }
      ]
    },
    {
      "cell_type": "code",
      "metadata": {
        "id": "mjh9O_gN4vj4",
        "colab": {
          "base_uri": "https://localhost:8080/"
        },
        "outputId": "6a45dc7e-72d3-4d8c-c3da-c83a3007f792"
      },
      "source": [
        "# Test per il generatore\n",
        "\n",
        "def test_gen():\n",
        "  img_channels = 3\n",
        "  img_size = 256\n",
        "  x = torch.randn((2, img_channels, img_size, img_size))\n",
        "  gen = Generator(img_channels, 9)\n",
        "  print(gen)\n",
        "  print(gen(x).shape) # 3x256x256, la stessa dimensione dell'immagine in input\n",
        "\n",
        "test_gen()"
      ],
      "execution_count": null,
      "outputs": [
        {
          "output_type": "stream",
          "text": [
            "Generator(\n",
            "  (initial): Sequential(\n",
            "    (0): Conv2d(3, 9, kernel_size=(7, 7), stride=(1, 1), padding=(3, 3), padding_mode=reflect)\n",
            "    (1): ReLU(inplace=True)\n",
            "  )\n",
            "  (down_blocks): ModuleList(\n",
            "    (0): ConvBlock(\n",
            "      (conv): Sequential(\n",
            "        (0): Conv2d(9, 18, kernel_size=(3, 3), stride=(2, 2), padding=(1, 1), padding_mode=reflect)\n",
            "        (1): InstanceNorm2d(18, eps=1e-05, momentum=0.1, affine=False, track_running_stats=False)\n",
            "        (2): ReLU(inplace=True)\n",
            "      )\n",
            "    )\n",
            "    (1): ConvBlock(\n",
            "      (conv): Sequential(\n",
            "        (0): Conv2d(18, 36, kernel_size=(3, 3), stride=(2, 2), padding=(1, 1), padding_mode=reflect)\n",
            "        (1): InstanceNorm2d(36, eps=1e-05, momentum=0.1, affine=False, track_running_stats=False)\n",
            "        (2): ReLU(inplace=True)\n",
            "      )\n",
            "    )\n",
            "  )\n",
            "  (residual_blocks): Sequential(\n",
            "    (0): ResidualBlock(\n",
            "      (block): Sequential(\n",
            "        (0): ConvBlock(\n",
            "          (conv): Sequential(\n",
            "            (0): Conv2d(36, 36, kernel_size=(3, 3), stride=(1, 1), padding=(1, 1), padding_mode=reflect)\n",
            "            (1): InstanceNorm2d(36, eps=1e-05, momentum=0.1, affine=False, track_running_stats=False)\n",
            "            (2): ReLU(inplace=True)\n",
            "          )\n",
            "        )\n",
            "        (1): ConvBlock(\n",
            "          (conv): Sequential(\n",
            "            (0): Conv2d(36, 36, kernel_size=(3, 3), stride=(1, 1), padding=(1, 1), padding_mode=reflect)\n",
            "            (1): InstanceNorm2d(36, eps=1e-05, momentum=0.1, affine=False, track_running_stats=False)\n",
            "            (2): Identity()\n",
            "          )\n",
            "        )\n",
            "      )\n",
            "    )\n",
            "    (1): ResidualBlock(\n",
            "      (block): Sequential(\n",
            "        (0): ConvBlock(\n",
            "          (conv): Sequential(\n",
            "            (0): Conv2d(36, 36, kernel_size=(3, 3), stride=(1, 1), padding=(1, 1), padding_mode=reflect)\n",
            "            (1): InstanceNorm2d(36, eps=1e-05, momentum=0.1, affine=False, track_running_stats=False)\n",
            "            (2): ReLU(inplace=True)\n",
            "          )\n",
            "        )\n",
            "        (1): ConvBlock(\n",
            "          (conv): Sequential(\n",
            "            (0): Conv2d(36, 36, kernel_size=(3, 3), stride=(1, 1), padding=(1, 1), padding_mode=reflect)\n",
            "            (1): InstanceNorm2d(36, eps=1e-05, momentum=0.1, affine=False, track_running_stats=False)\n",
            "            (2): Identity()\n",
            "          )\n",
            "        )\n",
            "      )\n",
            "    )\n",
            "    (2): ResidualBlock(\n",
            "      (block): Sequential(\n",
            "        (0): ConvBlock(\n",
            "          (conv): Sequential(\n",
            "            (0): Conv2d(36, 36, kernel_size=(3, 3), stride=(1, 1), padding=(1, 1), padding_mode=reflect)\n",
            "            (1): InstanceNorm2d(36, eps=1e-05, momentum=0.1, affine=False, track_running_stats=False)\n",
            "            (2): ReLU(inplace=True)\n",
            "          )\n",
            "        )\n",
            "        (1): ConvBlock(\n",
            "          (conv): Sequential(\n",
            "            (0): Conv2d(36, 36, kernel_size=(3, 3), stride=(1, 1), padding=(1, 1), padding_mode=reflect)\n",
            "            (1): InstanceNorm2d(36, eps=1e-05, momentum=0.1, affine=False, track_running_stats=False)\n",
            "            (2): Identity()\n",
            "          )\n",
            "        )\n",
            "      )\n",
            "    )\n",
            "    (3): ResidualBlock(\n",
            "      (block): Sequential(\n",
            "        (0): ConvBlock(\n",
            "          (conv): Sequential(\n",
            "            (0): Conv2d(36, 36, kernel_size=(3, 3), stride=(1, 1), padding=(1, 1), padding_mode=reflect)\n",
            "            (1): InstanceNorm2d(36, eps=1e-05, momentum=0.1, affine=False, track_running_stats=False)\n",
            "            (2): ReLU(inplace=True)\n",
            "          )\n",
            "        )\n",
            "        (1): ConvBlock(\n",
            "          (conv): Sequential(\n",
            "            (0): Conv2d(36, 36, kernel_size=(3, 3), stride=(1, 1), padding=(1, 1), padding_mode=reflect)\n",
            "            (1): InstanceNorm2d(36, eps=1e-05, momentum=0.1, affine=False, track_running_stats=False)\n",
            "            (2): Identity()\n",
            "          )\n",
            "        )\n",
            "      )\n",
            "    )\n",
            "    (4): ResidualBlock(\n",
            "      (block): Sequential(\n",
            "        (0): ConvBlock(\n",
            "          (conv): Sequential(\n",
            "            (0): Conv2d(36, 36, kernel_size=(3, 3), stride=(1, 1), padding=(1, 1), padding_mode=reflect)\n",
            "            (1): InstanceNorm2d(36, eps=1e-05, momentum=0.1, affine=False, track_running_stats=False)\n",
            "            (2): ReLU(inplace=True)\n",
            "          )\n",
            "        )\n",
            "        (1): ConvBlock(\n",
            "          (conv): Sequential(\n",
            "            (0): Conv2d(36, 36, kernel_size=(3, 3), stride=(1, 1), padding=(1, 1), padding_mode=reflect)\n",
            "            (1): InstanceNorm2d(36, eps=1e-05, momentum=0.1, affine=False, track_running_stats=False)\n",
            "            (2): Identity()\n",
            "          )\n",
            "        )\n",
            "      )\n",
            "    )\n",
            "    (5): ResidualBlock(\n",
            "      (block): Sequential(\n",
            "        (0): ConvBlock(\n",
            "          (conv): Sequential(\n",
            "            (0): Conv2d(36, 36, kernel_size=(3, 3), stride=(1, 1), padding=(1, 1), padding_mode=reflect)\n",
            "            (1): InstanceNorm2d(36, eps=1e-05, momentum=0.1, affine=False, track_running_stats=False)\n",
            "            (2): ReLU(inplace=True)\n",
            "          )\n",
            "        )\n",
            "        (1): ConvBlock(\n",
            "          (conv): Sequential(\n",
            "            (0): Conv2d(36, 36, kernel_size=(3, 3), stride=(1, 1), padding=(1, 1), padding_mode=reflect)\n",
            "            (1): InstanceNorm2d(36, eps=1e-05, momentum=0.1, affine=False, track_running_stats=False)\n",
            "            (2): Identity()\n",
            "          )\n",
            "        )\n",
            "      )\n",
            "    )\n",
            "    (6): ResidualBlock(\n",
            "      (block): Sequential(\n",
            "        (0): ConvBlock(\n",
            "          (conv): Sequential(\n",
            "            (0): Conv2d(36, 36, kernel_size=(3, 3), stride=(1, 1), padding=(1, 1), padding_mode=reflect)\n",
            "            (1): InstanceNorm2d(36, eps=1e-05, momentum=0.1, affine=False, track_running_stats=False)\n",
            "            (2): ReLU(inplace=True)\n",
            "          )\n",
            "        )\n",
            "        (1): ConvBlock(\n",
            "          (conv): Sequential(\n",
            "            (0): Conv2d(36, 36, kernel_size=(3, 3), stride=(1, 1), padding=(1, 1), padding_mode=reflect)\n",
            "            (1): InstanceNorm2d(36, eps=1e-05, momentum=0.1, affine=False, track_running_stats=False)\n",
            "            (2): Identity()\n",
            "          )\n",
            "        )\n",
            "      )\n",
            "    )\n",
            "    (7): ResidualBlock(\n",
            "      (block): Sequential(\n",
            "        (0): ConvBlock(\n",
            "          (conv): Sequential(\n",
            "            (0): Conv2d(36, 36, kernel_size=(3, 3), stride=(1, 1), padding=(1, 1), padding_mode=reflect)\n",
            "            (1): InstanceNorm2d(36, eps=1e-05, momentum=0.1, affine=False, track_running_stats=False)\n",
            "            (2): ReLU(inplace=True)\n",
            "          )\n",
            "        )\n",
            "        (1): ConvBlock(\n",
            "          (conv): Sequential(\n",
            "            (0): Conv2d(36, 36, kernel_size=(3, 3), stride=(1, 1), padding=(1, 1), padding_mode=reflect)\n",
            "            (1): InstanceNorm2d(36, eps=1e-05, momentum=0.1, affine=False, track_running_stats=False)\n",
            "            (2): Identity()\n",
            "          )\n",
            "        )\n",
            "      )\n",
            "    )\n",
            "    (8): ResidualBlock(\n",
            "      (block): Sequential(\n",
            "        (0): ConvBlock(\n",
            "          (conv): Sequential(\n",
            "            (0): Conv2d(36, 36, kernel_size=(3, 3), stride=(1, 1), padding=(1, 1), padding_mode=reflect)\n",
            "            (1): InstanceNorm2d(36, eps=1e-05, momentum=0.1, affine=False, track_running_stats=False)\n",
            "            (2): ReLU(inplace=True)\n",
            "          )\n",
            "        )\n",
            "        (1): ConvBlock(\n",
            "          (conv): Sequential(\n",
            "            (0): Conv2d(36, 36, kernel_size=(3, 3), stride=(1, 1), padding=(1, 1), padding_mode=reflect)\n",
            "            (1): InstanceNorm2d(36, eps=1e-05, momentum=0.1, affine=False, track_running_stats=False)\n",
            "            (2): Identity()\n",
            "          )\n",
            "        )\n",
            "      )\n",
            "    )\n",
            "  )\n",
            "  (up_blocks): ModuleList(\n",
            "    (0): ConvBlock(\n",
            "      (conv): Sequential(\n",
            "        (0): ConvTranspose2d(36, 18, kernel_size=(3, 3), stride=(2, 2), padding=(1, 1), output_padding=(1, 1))\n",
            "        (1): InstanceNorm2d(18, eps=1e-05, momentum=0.1, affine=False, track_running_stats=False)\n",
            "        (2): ReLU(inplace=True)\n",
            "      )\n",
            "    )\n",
            "    (1): ConvBlock(\n",
            "      (conv): Sequential(\n",
            "        (0): ConvTranspose2d(18, 9, kernel_size=(3, 3), stride=(2, 2), padding=(1, 1), output_padding=(1, 1))\n",
            "        (1): InstanceNorm2d(9, eps=1e-05, momentum=0.1, affine=False, track_running_stats=False)\n",
            "        (2): ReLU(inplace=True)\n",
            "      )\n",
            "    )\n",
            "  )\n",
            "  (last): Conv2d(9, 3, kernel_size=(7, 7), stride=(1, 1), padding=(3, 3), padding_mode=reflect)\n",
            ")\n",
            "torch.Size([2, 3, 256, 256])\n"
          ],
          "name": "stdout"
        }
      ]
    },
    {
      "cell_type": "markdown",
      "metadata": {
        "id": "yu6Y1JsT6t4U"
      },
      "source": [
        "# **Caricamento del dataset**"
      ]
    },
    {
      "cell_type": "code",
      "metadata": {
        "id": "oeG5_V2HfT72",
        "colab": {
          "base_uri": "https://localhost:8080/"
        },
        "outputId": "ba3464bd-3f00-4ba6-e8d1-28d86893bb2c"
      },
      "source": [
        "!pip install -U albumentations==0.4.6"
      ],
      "execution_count": null,
      "outputs": [
        {
          "output_type": "stream",
          "text": [
            "Collecting albumentations==0.4.6\n",
            "\u001b[?25l  Downloading https://files.pythonhosted.org/packages/92/33/1c459c2c9a4028ec75527eff88bc4e2d256555189f42af4baf4d7bd89233/albumentations-0.4.6.tar.gz (117kB)\n",
            "\u001b[K     |████████████████████████████████| 122kB 8.8MB/s \n",
            "\u001b[?25hRequirement already satisfied, skipping upgrade: numpy>=1.11.1 in /usr/local/lib/python3.7/dist-packages (from albumentations==0.4.6) (1.19.5)\n",
            "Requirement already satisfied, skipping upgrade: scipy in /usr/local/lib/python3.7/dist-packages (from albumentations==0.4.6) (1.4.1)\n",
            "Collecting imgaug>=0.4.0\n",
            "\u001b[?25l  Downloading https://files.pythonhosted.org/packages/66/b1/af3142c4a85cba6da9f4ebb5ff4e21e2616309552caca5e8acefe9840622/imgaug-0.4.0-py2.py3-none-any.whl (948kB)\n",
            "\u001b[K     |████████████████████████████████| 952kB 40.2MB/s \n",
            "\u001b[?25hRequirement already satisfied, skipping upgrade: PyYAML in /usr/local/lib/python3.7/dist-packages (from albumentations==0.4.6) (3.13)\n",
            "Requirement already satisfied, skipping upgrade: opencv-python>=4.1.1 in /usr/local/lib/python3.7/dist-packages (from albumentations==0.4.6) (4.1.2.30)\n",
            "Requirement already satisfied, skipping upgrade: scikit-image>=0.14.2 in /usr/local/lib/python3.7/dist-packages (from imgaug>=0.4.0->albumentations==0.4.6) (0.16.2)\n",
            "Requirement already satisfied, skipping upgrade: six in /usr/local/lib/python3.7/dist-packages (from imgaug>=0.4.0->albumentations==0.4.6) (1.15.0)\n",
            "Requirement already satisfied, skipping upgrade: Pillow in /usr/local/lib/python3.7/dist-packages (from imgaug>=0.4.0->albumentations==0.4.6) (7.1.2)\n",
            "Requirement already satisfied, skipping upgrade: Shapely in /usr/local/lib/python3.7/dist-packages (from imgaug>=0.4.0->albumentations==0.4.6) (1.7.1)\n",
            "Requirement already satisfied, skipping upgrade: imageio in /usr/local/lib/python3.7/dist-packages (from imgaug>=0.4.0->albumentations==0.4.6) (2.4.1)\n",
            "Requirement already satisfied, skipping upgrade: matplotlib in /usr/local/lib/python3.7/dist-packages (from imgaug>=0.4.0->albumentations==0.4.6) (3.2.2)\n",
            "Requirement already satisfied, skipping upgrade: networkx>=2.0 in /usr/local/lib/python3.7/dist-packages (from scikit-image>=0.14.2->imgaug>=0.4.0->albumentations==0.4.6) (2.5.1)\n",
            "Requirement already satisfied, skipping upgrade: PyWavelets>=0.4.0 in /usr/local/lib/python3.7/dist-packages (from scikit-image>=0.14.2->imgaug>=0.4.0->albumentations==0.4.6) (1.1.1)\n",
            "Requirement already satisfied, skipping upgrade: kiwisolver>=1.0.1 in /usr/local/lib/python3.7/dist-packages (from matplotlib->imgaug>=0.4.0->albumentations==0.4.6) (1.3.1)\n",
            "Requirement already satisfied, skipping upgrade: cycler>=0.10 in /usr/local/lib/python3.7/dist-packages (from matplotlib->imgaug>=0.4.0->albumentations==0.4.6) (0.10.0)\n",
            "Requirement already satisfied, skipping upgrade: pyparsing!=2.0.4,!=2.1.2,!=2.1.6,>=2.0.1 in /usr/local/lib/python3.7/dist-packages (from matplotlib->imgaug>=0.4.0->albumentations==0.4.6) (2.4.7)\n",
            "Requirement already satisfied, skipping upgrade: python-dateutil>=2.1 in /usr/local/lib/python3.7/dist-packages (from matplotlib->imgaug>=0.4.0->albumentations==0.4.6) (2.8.1)\n",
            "Requirement already satisfied, skipping upgrade: decorator<5,>=4.3 in /usr/local/lib/python3.7/dist-packages (from networkx>=2.0->scikit-image>=0.14.2->imgaug>=0.4.0->albumentations==0.4.6) (4.4.2)\n",
            "Building wheels for collected packages: albumentations\n",
            "  Building wheel for albumentations (setup.py) ... \u001b[?25l\u001b[?25hdone\n",
            "  Created wheel for albumentations: filename=albumentations-0.4.6-cp37-none-any.whl size=65175 sha256=a8c30c63f5982c7dbce82f3b18ae3657bab549959eebd15366f8e34f8193deae\n",
            "  Stored in directory: /root/.cache/pip/wheels/c7/f4/89/56d1bee5c421c36c1a951eeb4adcc32fbb82f5344c086efa14\n",
            "Successfully built albumentations\n",
            "Installing collected packages: imgaug, albumentations\n",
            "  Found existing installation: imgaug 0.2.9\n",
            "    Uninstalling imgaug-0.2.9:\n",
            "      Successfully uninstalled imgaug-0.2.9\n",
            "  Found existing installation: albumentations 0.1.12\n",
            "    Uninstalling albumentations-0.1.12:\n",
            "      Successfully uninstalled albumentations-0.1.12\n",
            "Successfully installed albumentations-0.4.6 imgaug-0.4.0\n"
          ],
          "name": "stdout"
        }
      ]
    },
    {
      "cell_type": "code",
      "metadata": {
        "id": "4fwwplDP631H"
      },
      "source": [
        "from PIL import Image\n",
        "from torch.utils.data import Dataset, DataLoader\n",
        "import os\n",
        "import numpy as np\n",
        "\n",
        "class SummerWinterDataset(Dataset):\n",
        "    def __init__(self, root_summer, root_winter, transform=None):\n",
        "        self.root_summer = root_summer\n",
        "        self.root_winter = root_winter\n",
        "        self.transform = transform\n",
        "\n",
        "        self.summer_images = os.listdir(root_summer)\n",
        "        self.winter_images = os.listdir(root_winter)\n",
        "        self.length_dataset = max(len(self.summer_images), len(self.winter_images)) # massima lunghezza\n",
        "        self.summer_len = len(self.summer_images)\n",
        "        self.winter_len = len(self.winter_images)\n",
        "\n",
        "    def __len__(self):\n",
        "        return self.length_dataset\n",
        "\n",
        "    def __getitem__(self, index):\n",
        "        summer_img = self.summer_images[index % self.summer_len]\n",
        "        winter_img = self.winter_images[index % self.winter_len]\n",
        "\n",
        "        summer_path = os.path.join(self.root_summer, summer_img)\n",
        "        winter_path = os.path.join(self.root_winter, winter_img)\n",
        "\n",
        "        summer_img = np.array(Image.open(summer_path).convert(\"RGB\"))\n",
        "        winter_img = np.array(Image.open(winter_path).convert(\"RGB\"))\n",
        "\n",
        "        if self.transform:\n",
        "          # Applichiamo le trasformazioni\n",
        "            augmentations = self.transform(image=summer_img, image0=winter_img)\n",
        "            summer_img = augmentations[\"image\"]\n",
        "            winter_img = augmentations[\"image0\"]\n",
        "\n",
        "        return summer_img, winter_img"
      ],
      "execution_count": null,
      "outputs": []
    },
    {
      "cell_type": "markdown",
      "metadata": {
        "id": "KgI6kcz2OQD9"
      },
      "source": [
        "# **Training**"
      ]
    },
    {
      "cell_type": "code",
      "metadata": {
        "id": "PIZVF2G0elLg"
      },
      "source": [
        "import sys\n",
        "!cp drive/MyDrive/config.py .\n",
        "import config\n",
        "!cp drive/MyDrive/utils.py .\n",
        "from utils import save_checkpoint, load_checkpoint\n",
        "import torch.optim as optim\n",
        "from tqdm import tqdm # Progress bar\n",
        "from torchvision.utils import save_image\n",
        "\n",
        "def train(disc_summer, disc_winter, gen_winter, gen_summer, loader, opt_disc, opt_gen, l1, mse, d_scaler, g_scaler):\n",
        "  summer_reals = 0\n",
        "  summer_fakes = 0\n",
        "  if not os.path.exists(\"saved_images\"):\n",
        "      os.mkdir(\"saved_images\")\n",
        "  \n",
        "  loop = tqdm(loader, leave = True)\n",
        "  \n",
        "  for idx, (summer, winter) in enumerate(loop):\n",
        "    summer = summer.to(config.DEVICE)\n",
        "    winter = winter.to(config.DEVICE)\n",
        "\n",
        "    # Train per i discriminatori\n",
        "    with torch.cuda.amp.autocast(): # per il casting a float16\n",
        "        # Generiamo un'immagine di summer\n",
        "        fake_summer = gen_summer(winter)\n",
        "        # Utilizziamo il discriminatore passando l'immagine reale e quella generata\n",
        "        D_summer_real = disc_summer(summer)\n",
        "        D_summer_fake = disc_summer(fake_summer.detach())\n",
        "        summer_reals += D_summer_real.mean().item()\n",
        "        summer_fakes += D_summer_fake.mean().item()\n",
        "        # Calcoliamo gli errori\n",
        "        D_summer_real_loss = mse(D_summer_real, torch.ones_like(D_summer_real)) # Input reali\n",
        "        D_summer_fake_loss = mse(D_summer_fake, torch.zeros_like(D_summer_fake)) # Input generati\n",
        "        # Sommiamo gli errori\n",
        "        D_summer_loss = D_summer_real_loss + D_summer_fake_loss\n",
        "\n",
        "        # Ripetiamo gli stessi passi per le immagini di winter\n",
        "        fake_winter = gen_winter(summer)\n",
        "        D_winter_real = disc_winter(winter)\n",
        "        D_winter_fake = disc_winter(fake_winter.detach())\n",
        "        D_winter_real_loss = mse(D_winter_real, torch.ones_like(D_winter_real))\n",
        "        D_winter_fake_loss = mse(D_winter_fake, torch.zeros_like(D_winter_fake))\n",
        "        D_winter_loss = D_winter_real_loss + D_winter_fake_loss\n",
        "\n",
        "        # Uniamo le funzioni di loss e dividiamo per 2 (come fatto dagli autori)\n",
        "        # in modo da pesare maggiormente i parametri dei generatori.\n",
        "        D_loss = (D_summer_loss + D_winter_loss)/2\n",
        "    \n",
        "    # Calcolo dei gradienti e aggiornamento dei parametri\n",
        "    opt_disc.zero_grad()\n",
        "    d_scaler.scale(D_loss).backward()\n",
        "    d_scaler.step(opt_disc)\n",
        "    d_scaler.update()\n",
        "\n",
        "\n",
        "    # Train per i generatori\n",
        "    with torch.cuda.amp.autocast():\n",
        "        # Calcoliamo l'adversarial loss per entrambi i generatori\n",
        "        D_summer_fake = disc_summer(fake_summer)\n",
        "        D_winter_fake = disc_winter(fake_winter)\n",
        "        # Le valutazioni dei discriminatori devono essere confrontate con i valori \"1\"\n",
        "        # in questo caso, poichè vogliamo che il generatore impari a creare\n",
        "        # immagini che sembrino reali.\n",
        "        loss_G_summer = mse(D_summer_fake, torch.ones_like(D_summer_fake))\n",
        "        loss_G_winter = mse(D_winter_fake, torch.ones_like(D_winter_fake))\n",
        "\n",
        "        # Cycle consistency loss\n",
        "        # Generiamo le immagini di partenza (originali) a\n",
        "        # partire da quelle create (fake)\n",
        "        cycle_winter = gen_winter(fake_summer)\n",
        "        cycle_summer = gen_summer(fake_winter)\n",
        "        # Valutiamo le differenze tra l'immagine reale e quella generata\n",
        "        cycle_winter_loss = l1(winter, cycle_winter)\n",
        "        cycle_summer_loss = l1(summer, cycle_summer)\n",
        "\n",
        "        # Identity loss (remove these for efficiency if you set lambda_identity=0)\n",
        "        # Generiamo delle immagini a partire da quelle target (es. summer --> summer),\n",
        "        # in modo da verificare se i generatori modificano la colorazione originale.\n",
        "        #identity_winter = gen_winter(winter)\n",
        "        #identity_summer = gen_summer(summer)\n",
        "        # Anche in questo caso vogliamo che le immagini confontate siano\n",
        "        # pressochè identiche.\n",
        "        #identity_winter_loss = l1(winter, identity_winter)\n",
        "        #identity_summer_loss = l1(summer, identity_summer)\n",
        "\n",
        "        # Sommiamo i vari contributi\n",
        "        G_loss = (\n",
        "            loss_G_winter\n",
        "            + loss_G_summer\n",
        "            + cycle_winter_loss * config.LAMBDA_CYCLE # lambda = 10\n",
        "            + cycle_summer_loss * config.LAMBDA_CYCLE\n",
        "            #+ identity_summer_loss * config.LAMBDA_IDENTITY\n",
        "            #+ identity_winter_loss * config.LAMBDA_IDENTITY\n",
        "        )\n",
        "    \n",
        "    # Step\n",
        "    opt_gen.zero_grad()\n",
        "    g_scaler.scale(G_loss).backward()\n",
        "    g_scaler.step(opt_gen)\n",
        "    g_scaler.update()\n",
        "\n",
        "    # Salviamo alcune immagini generate (si utilizza sempre il training set)\n",
        "    if idx % 200 == 0:\n",
        "        save_image(fake_summer*0.5+0.5, f\"saved_images/summer_{idx}.png\")\n",
        "        save_image(fake_winter*0.5+0.5, f\"saved_images/winter_{idx}.png\")\n",
        "    \n",
        "    \n",
        "    #loop.set_postfix(summer_real=summer_reals/(idx+1), summer_fake=summer_fakes/(idx+1))\n"
      ],
      "execution_count": null,
      "outputs": []
    },
    {
      "cell_type": "code",
      "metadata": {
        "id": "VPIVGbJpgwy9"
      },
      "source": [
        "def main():\n",
        "  \n",
        "  # Creazione discriminatori e generatori\n",
        "  disc_summer = Discriminator(in_channels=3).to(config.DEVICE)\n",
        "  disc_winter = Discriminator(in_channels=3).to(config.DEVICE)\n",
        "  gen_summer = Generator(img_channels=3, num_residuals=9).to(config.DEVICE)\n",
        "  gen_winter = Generator(img_channels=3, num_residuals=9).to(config.DEVICE)\n",
        "\n",
        "  # Optimizers\n",
        "  opt_disc = optim.Adam(\n",
        "      list(disc_summer.parameters()) + list(disc_winter.parameters()),\n",
        "      lr=config.LEARNING_RATE, # 0.0002 (come da paper)\n",
        "      betas=(0.5, 0.999), # momentum e beta2 (come da paper)\n",
        "  )\n",
        "\n",
        "  opt_gen = optim.Adam(\n",
        "      list(gen_summer.parameters()) + list(gen_winter.parameters()),\n",
        "      lr=config.LEARNING_RATE,\n",
        "      betas=(0.5, 0.999),\n",
        "  )\n",
        "\n",
        "  # Loss functions\n",
        "  L1 = nn.L1Loss() # Utilizzata per il calcolo della cycle consistency loss e per la identity loss\n",
        "  mse = nn.MSELoss() # Utilizzata per l'adversarial loss\n",
        "\n",
        "  # Se ho settato un checkpoint carico i modelli già allenati\n",
        "  if config.LOAD_MODEL:\n",
        "      load_checkpoint(\n",
        "          config.CHECKPOINT_GEN_SUMMER, gen_summer, opt_gen, config.LEARNING_RATE,\n",
        "      )\n",
        "      load_checkpoint(\n",
        "          config.CHECKPOINT_GEN_WINTER, gen_winter, opt_gen, config.LEARNING_RATE,\n",
        "      )\n",
        "      load_checkpoint(\n",
        "          config.CHECKPOINT_DISC_SUMMER, disc_summer, opt_disc, config.LEARNING_RATE,\n",
        "      )\n",
        "      load_checkpoint(\n",
        "          config.CHECKPOINT_DISC_WINTER, disc_winter, opt_disc, config.LEARNING_RATE,\n",
        "      )\n",
        "\n",
        "  # Creazione del dataset\n",
        "  dataset = SummerWinterDataset(\n",
        "      root_summer=config.TRAIN_DIR+\"/summer\", root_winter=config.TRAIN_DIR+\"/winter\", \n",
        "      transform=config.transforms)\n",
        "  val_dataset = SummerWinterDataset(\n",
        "      root_summer=config.VAL_DIR+\"/summer\", root_winter=config.VAL_DIR+\"/winter\", \n",
        "      transform=config.transforms)\n",
        "\n",
        "  # Data Loaders\n",
        "  val_loader = DataLoader(\n",
        "      val_dataset,\n",
        "      batch_size=1,\n",
        "      shuffle=False,\n",
        "      pin_memory=True,\n",
        "  )\n",
        "  loader = DataLoader(\n",
        "      dataset,\n",
        "      batch_size=config.BATCH_SIZE,\n",
        "      shuffle=True,\n",
        "      num_workers=config.NUM_WORKERS,\n",
        "      pin_memory=True\n",
        "  )\n",
        "\n",
        "  # Servono per la conversione da float32 a float16 in modo da velocizzare il training\n",
        "  g_scaler = torch.cuda.amp.GradScaler()\n",
        "  d_scaler = torch.cuda.amp.GradScaler()\n",
        "\n",
        "  # Training\n",
        "  for epoch in range(config.NUM_EPOCHS):\n",
        "      print(\"Epoca numero \", epoch)\n",
        "      train(disc_summer, disc_winter, gen_winter, gen_summer, loader, opt_disc, opt_gen, L1, mse, d_scaler, g_scaler)\n",
        "\n",
        "      # Salviamo il modello ad ogni epoca se necessario\n",
        "      if config.SAVE_MODEL:\n",
        "          save_checkpoint(gen_summer, opt_gen, filename=config.CHECKPOINT_GEN_SUMMER)\n",
        "          save_checkpoint(gen_winter, opt_gen, filename=config.CHECKPOINT_GEN_WINTER)\n",
        "          save_checkpoint(disc_summer, opt_disc, filename=config.CHECKPOINT_DISC_SUMMER)\n",
        "          save_checkpoint(disc_winter, opt_disc, filename=config.CHECKPOINT_DISC_WINTER)"
      ],
      "execution_count": null,
      "outputs": []
    },
    {
      "cell_type": "code",
      "metadata": {
        "colab": {
          "base_uri": "https://localhost:8080/",
          "height": 1000
        },
        "id": "_RwM8z8mjcm_",
        "outputId": "e4fbcfe3-52b5-40f5-d1e0-946cdb8a057e"
      },
      "source": [
        "main()"
      ],
      "execution_count": null,
      "outputs": [
        {
          "output_type": "stream",
          "text": [
            "=> Loading checkpoint\n",
            "=> Loading checkpoint\n",
            "=> Loading checkpoint\n",
            "=> Loading checkpoint\n"
          ],
          "name": "stdout"
        },
        {
          "output_type": "stream",
          "text": [
            "/usr/local/lib/python3.7/dist-packages/torch/utils/data/dataloader.py:481: UserWarning: This DataLoader will create 4 worker processes in total. Our suggested max number of worker in current system is 2, which is smaller than what this DataLoader is going to create. Please be aware that excessive worker creation might get DataLoader running slow or even freeze, lower the worker number to avoid potential slowness/freeze if necessary.\n",
            "  cpuset_checked))\n",
            "\r  0%|          | 0/1231 [00:00<?, ?it/s]"
          ],
          "name": "stderr"
        },
        {
          "output_type": "stream",
          "text": [
            "Epoca numero  0\n"
          ],
          "name": "stdout"
        },
        {
          "output_type": "stream",
          "text": [
            "100%|██████████| 1231/1231 [09:51<00:00,  2.08it/s]\n"
          ],
          "name": "stderr"
        },
        {
          "output_type": "stream",
          "text": [
            "=> Saving checkpoint\n",
            "=> Saving checkpoint\n",
            "=> Saving checkpoint\n",
            "=> Saving checkpoint\n"
          ],
          "name": "stdout"
        },
        {
          "output_type": "stream",
          "text": [
            "\r  0%|          | 0/1231 [00:00<?, ?it/s]"
          ],
          "name": "stderr"
        },
        {
          "output_type": "stream",
          "text": [
            "Epoca numero  1\n"
          ],
          "name": "stdout"
        },
        {
          "output_type": "stream",
          "text": [
            "100%|██████████| 1231/1231 [09:57<00:00,  2.06it/s]\n"
          ],
          "name": "stderr"
        },
        {
          "output_type": "stream",
          "text": [
            "=> Saving checkpoint\n",
            "=> Saving checkpoint\n",
            "=> Saving checkpoint\n",
            "=> Saving checkpoint\n"
          ],
          "name": "stdout"
        },
        {
          "output_type": "stream",
          "text": [
            "\r  0%|          | 0/1231 [00:00<?, ?it/s]"
          ],
          "name": "stderr"
        },
        {
          "output_type": "stream",
          "text": [
            "Epoca numero  2\n"
          ],
          "name": "stdout"
        },
        {
          "output_type": "stream",
          "text": [
            "100%|██████████| 1231/1231 [09:55<00:00,  2.07it/s]\n"
          ],
          "name": "stderr"
        },
        {
          "output_type": "stream",
          "text": [
            "=> Saving checkpoint\n",
            "=> Saving checkpoint\n",
            "=> Saving checkpoint\n",
            "=> Saving checkpoint\n"
          ],
          "name": "stdout"
        },
        {
          "output_type": "stream",
          "text": [
            "\r  0%|          | 0/1231 [00:00<?, ?it/s]"
          ],
          "name": "stderr"
        },
        {
          "output_type": "stream",
          "text": [
            "Epoca numero  3\n"
          ],
          "name": "stdout"
        },
        {
          "output_type": "stream",
          "text": [
            "100%|██████████| 1231/1231 [09:56<00:00,  2.06it/s]\n"
          ],
          "name": "stderr"
        },
        {
          "output_type": "stream",
          "text": [
            "=> Saving checkpoint\n",
            "=> Saving checkpoint\n",
            "=> Saving checkpoint\n",
            "=> Saving checkpoint\n"
          ],
          "name": "stdout"
        },
        {
          "output_type": "stream",
          "text": [
            "\r  0%|          | 0/1231 [00:00<?, ?it/s]"
          ],
          "name": "stderr"
        },
        {
          "output_type": "stream",
          "text": [
            "Epoca numero  4\n"
          ],
          "name": "stdout"
        },
        {
          "output_type": "stream",
          "text": [
            "100%|██████████| 1231/1231 [09:56<00:00,  2.06it/s]\n"
          ],
          "name": "stderr"
        },
        {
          "output_type": "stream",
          "text": [
            "=> Saving checkpoint\n",
            "=> Saving checkpoint\n",
            "=> Saving checkpoint\n",
            "=> Saving checkpoint\n"
          ],
          "name": "stdout"
        },
        {
          "output_type": "stream",
          "text": [
            "\r  0%|          | 0/1231 [00:00<?, ?it/s]"
          ],
          "name": "stderr"
        },
        {
          "output_type": "stream",
          "text": [
            "Epoca numero  5\n"
          ],
          "name": "stdout"
        },
        {
          "output_type": "stream",
          "text": [
            "100%|██████████| 1231/1231 [09:56<00:00,  2.06it/s]\n"
          ],
          "name": "stderr"
        },
        {
          "output_type": "stream",
          "text": [
            "=> Saving checkpoint\n",
            "=> Saving checkpoint\n",
            "=> Saving checkpoint\n",
            "=> Saving checkpoint\n"
          ],
          "name": "stdout"
        },
        {
          "output_type": "stream",
          "text": [
            "\r  0%|          | 0/1231 [00:00<?, ?it/s]"
          ],
          "name": "stderr"
        },
        {
          "output_type": "stream",
          "text": [
            "Epoca numero  6\n"
          ],
          "name": "stdout"
        },
        {
          "output_type": "stream",
          "text": [
            "100%|██████████| 1231/1231 [09:57<00:00,  2.06it/s]\n"
          ],
          "name": "stderr"
        },
        {
          "output_type": "stream",
          "text": [
            "=> Saving checkpoint\n",
            "=> Saving checkpoint\n",
            "=> Saving checkpoint\n",
            "=> Saving checkpoint\n"
          ],
          "name": "stdout"
        },
        {
          "output_type": "stream",
          "text": [
            "\r  0%|          | 0/1231 [00:00<?, ?it/s]"
          ],
          "name": "stderr"
        },
        {
          "output_type": "stream",
          "text": [
            "Epoca numero  7\n"
          ],
          "name": "stdout"
        },
        {
          "output_type": "stream",
          "text": [
            "100%|██████████| 1231/1231 [09:57<00:00,  2.06it/s]\n"
          ],
          "name": "stderr"
        },
        {
          "output_type": "stream",
          "text": [
            "=> Saving checkpoint\n",
            "=> Saving checkpoint\n",
            "=> Saving checkpoint\n",
            "=> Saving checkpoint\n"
          ],
          "name": "stdout"
        },
        {
          "output_type": "stream",
          "text": [
            "\r  0%|          | 0/1231 [00:00<?, ?it/s]"
          ],
          "name": "stderr"
        },
        {
          "output_type": "stream",
          "text": [
            "Epoca numero  8\n"
          ],
          "name": "stdout"
        },
        {
          "output_type": "stream",
          "text": [
            "100%|██████████| 1231/1231 [09:55<00:00,  2.07it/s]\n"
          ],
          "name": "stderr"
        },
        {
          "output_type": "stream",
          "text": [
            "=> Saving checkpoint\n",
            "=> Saving checkpoint\n",
            "=> Saving checkpoint\n",
            "=> Saving checkpoint\n"
          ],
          "name": "stdout"
        },
        {
          "output_type": "stream",
          "text": [
            "\r  0%|          | 0/1231 [00:00<?, ?it/s]"
          ],
          "name": "stderr"
        },
        {
          "output_type": "stream",
          "text": [
            "Epoca numero  9\n"
          ],
          "name": "stdout"
        },
        {
          "output_type": "stream",
          "text": [
            "100%|██████████| 1231/1231 [09:56<00:00,  2.06it/s]\n"
          ],
          "name": "stderr"
        },
        {
          "output_type": "stream",
          "text": [
            "=> Saving checkpoint\n",
            "=> Saving checkpoint\n",
            "=> Saving checkpoint\n",
            "=> Saving checkpoint\n"
          ],
          "name": "stdout"
        },
        {
          "output_type": "stream",
          "text": [
            "\r  0%|          | 0/1231 [00:00<?, ?it/s]"
          ],
          "name": "stderr"
        },
        {
          "output_type": "stream",
          "text": [
            "Epoca numero  10\n"
          ],
          "name": "stdout"
        },
        {
          "output_type": "stream",
          "text": [
            "  1%|          | 8/1231 [00:04<10:29,  1.94it/s]"
          ],
          "name": "stderr"
        },
        {
          "output_type": "error",
          "ename": "KeyboardInterrupt",
          "evalue": "ignored",
          "traceback": [
            "\u001b[0;31m---------------------------------------------------------------------------\u001b[0m",
            "\u001b[0;31mKeyboardInterrupt\u001b[0m                         Traceback (most recent call last)",
            "\u001b[0;32m<ipython-input-13-263240bbee7e>\u001b[0m in \u001b[0;36m<module>\u001b[0;34m()\u001b[0m\n\u001b[0;32m----> 1\u001b[0;31m \u001b[0mmain\u001b[0m\u001b[0;34m(\u001b[0m\u001b[0;34m)\u001b[0m\u001b[0;34m\u001b[0m\u001b[0;34m\u001b[0m\u001b[0m\n\u001b[0m",
            "\u001b[0;32m<ipython-input-12-75767c347453>\u001b[0m in \u001b[0;36mmain\u001b[0;34m()\u001b[0m\n\u001b[1;32m     69\u001b[0m   \u001b[0;32mfor\u001b[0m \u001b[0mepoch\u001b[0m \u001b[0;32min\u001b[0m \u001b[0mrange\u001b[0m\u001b[0;34m(\u001b[0m\u001b[0mconfig\u001b[0m\u001b[0;34m.\u001b[0m\u001b[0mNUM_EPOCHS\u001b[0m\u001b[0;34m)\u001b[0m\u001b[0;34m:\u001b[0m\u001b[0;34m\u001b[0m\u001b[0;34m\u001b[0m\u001b[0m\n\u001b[1;32m     70\u001b[0m       \u001b[0mprint\u001b[0m\u001b[0;34m(\u001b[0m\u001b[0;34m\"Epoca numero \"\u001b[0m\u001b[0;34m,\u001b[0m \u001b[0mepoch\u001b[0m\u001b[0;34m)\u001b[0m\u001b[0;34m\u001b[0m\u001b[0;34m\u001b[0m\u001b[0m\n\u001b[0;32m---> 71\u001b[0;31m       \u001b[0mtrain\u001b[0m\u001b[0;34m(\u001b[0m\u001b[0mdisc_summer\u001b[0m\u001b[0;34m,\u001b[0m \u001b[0mdisc_winter\u001b[0m\u001b[0;34m,\u001b[0m \u001b[0mgen_winter\u001b[0m\u001b[0;34m,\u001b[0m \u001b[0mgen_summer\u001b[0m\u001b[0;34m,\u001b[0m \u001b[0mloader\u001b[0m\u001b[0;34m,\u001b[0m \u001b[0mopt_disc\u001b[0m\u001b[0;34m,\u001b[0m \u001b[0mopt_gen\u001b[0m\u001b[0;34m,\u001b[0m \u001b[0mL1\u001b[0m\u001b[0;34m,\u001b[0m \u001b[0mmse\u001b[0m\u001b[0;34m,\u001b[0m \u001b[0md_scaler\u001b[0m\u001b[0;34m,\u001b[0m \u001b[0mg_scaler\u001b[0m\u001b[0;34m)\u001b[0m\u001b[0;34m\u001b[0m\u001b[0;34m\u001b[0m\u001b[0m\n\u001b[0m\u001b[1;32m     72\u001b[0m \u001b[0;34m\u001b[0m\u001b[0m\n\u001b[1;32m     73\u001b[0m       \u001b[0;31m# Salviamo il modello ad ogni epoca se necessario\u001b[0m\u001b[0;34m\u001b[0m\u001b[0;34m\u001b[0m\u001b[0;34m\u001b[0m\u001b[0m\n",
            "\u001b[0;32m<ipython-input-11-f9ae496a4aa0>\u001b[0m in \u001b[0;36mtrain\u001b[0;34m(disc_summer, disc_winter, gen_winter, gen_summer, loader, opt_disc, opt_gen, l1, mse, d_scaler, g_scaler)\u001b[0m\n\u001b[1;32m     96\u001b[0m     \u001b[0;31m# Step\u001b[0m\u001b[0;34m\u001b[0m\u001b[0;34m\u001b[0m\u001b[0;34m\u001b[0m\u001b[0m\n\u001b[1;32m     97\u001b[0m     \u001b[0mopt_gen\u001b[0m\u001b[0;34m.\u001b[0m\u001b[0mzero_grad\u001b[0m\u001b[0;34m(\u001b[0m\u001b[0;34m)\u001b[0m\u001b[0;34m\u001b[0m\u001b[0;34m\u001b[0m\u001b[0m\n\u001b[0;32m---> 98\u001b[0;31m     \u001b[0mg_scaler\u001b[0m\u001b[0;34m.\u001b[0m\u001b[0mscale\u001b[0m\u001b[0;34m(\u001b[0m\u001b[0mG_loss\u001b[0m\u001b[0;34m)\u001b[0m\u001b[0;34m.\u001b[0m\u001b[0mbackward\u001b[0m\u001b[0;34m(\u001b[0m\u001b[0;34m)\u001b[0m\u001b[0;34m\u001b[0m\u001b[0;34m\u001b[0m\u001b[0m\n\u001b[0m\u001b[1;32m     99\u001b[0m     \u001b[0mg_scaler\u001b[0m\u001b[0;34m.\u001b[0m\u001b[0mstep\u001b[0m\u001b[0;34m(\u001b[0m\u001b[0mopt_gen\u001b[0m\u001b[0;34m)\u001b[0m\u001b[0;34m\u001b[0m\u001b[0;34m\u001b[0m\u001b[0m\n\u001b[1;32m    100\u001b[0m     \u001b[0mg_scaler\u001b[0m\u001b[0;34m.\u001b[0m\u001b[0mupdate\u001b[0m\u001b[0;34m(\u001b[0m\u001b[0;34m)\u001b[0m\u001b[0;34m\u001b[0m\u001b[0;34m\u001b[0m\u001b[0m\n",
            "\u001b[0;32m/usr/local/lib/python3.7/dist-packages/torch/_tensor.py\u001b[0m in \u001b[0;36mbackward\u001b[0;34m(self, gradient, retain_graph, create_graph, inputs)\u001b[0m\n\u001b[1;32m    253\u001b[0m                 \u001b[0mcreate_graph\u001b[0m\u001b[0;34m=\u001b[0m\u001b[0mcreate_graph\u001b[0m\u001b[0;34m,\u001b[0m\u001b[0;34m\u001b[0m\u001b[0;34m\u001b[0m\u001b[0m\n\u001b[1;32m    254\u001b[0m                 inputs=inputs)\n\u001b[0;32m--> 255\u001b[0;31m         \u001b[0mtorch\u001b[0m\u001b[0;34m.\u001b[0m\u001b[0mautograd\u001b[0m\u001b[0;34m.\u001b[0m\u001b[0mbackward\u001b[0m\u001b[0;34m(\u001b[0m\u001b[0mself\u001b[0m\u001b[0;34m,\u001b[0m \u001b[0mgradient\u001b[0m\u001b[0;34m,\u001b[0m \u001b[0mretain_graph\u001b[0m\u001b[0;34m,\u001b[0m \u001b[0mcreate_graph\u001b[0m\u001b[0;34m,\u001b[0m \u001b[0minputs\u001b[0m\u001b[0;34m=\u001b[0m\u001b[0minputs\u001b[0m\u001b[0;34m)\u001b[0m\u001b[0;34m\u001b[0m\u001b[0;34m\u001b[0m\u001b[0m\n\u001b[0m\u001b[1;32m    256\u001b[0m \u001b[0;34m\u001b[0m\u001b[0m\n\u001b[1;32m    257\u001b[0m     \u001b[0;32mdef\u001b[0m \u001b[0mregister_hook\u001b[0m\u001b[0;34m(\u001b[0m\u001b[0mself\u001b[0m\u001b[0;34m,\u001b[0m \u001b[0mhook\u001b[0m\u001b[0;34m)\u001b[0m\u001b[0;34m:\u001b[0m\u001b[0;34m\u001b[0m\u001b[0;34m\u001b[0m\u001b[0m\n",
            "\u001b[0;32m/usr/local/lib/python3.7/dist-packages/torch/autograd/__init__.py\u001b[0m in \u001b[0;36mbackward\u001b[0;34m(tensors, grad_tensors, retain_graph, create_graph, grad_variables, inputs)\u001b[0m\n\u001b[1;32m    147\u001b[0m     Variable._execution_engine.run_backward(\n\u001b[1;32m    148\u001b[0m         \u001b[0mtensors\u001b[0m\u001b[0;34m,\u001b[0m \u001b[0mgrad_tensors_\u001b[0m\u001b[0;34m,\u001b[0m \u001b[0mretain_graph\u001b[0m\u001b[0;34m,\u001b[0m \u001b[0mcreate_graph\u001b[0m\u001b[0;34m,\u001b[0m \u001b[0minputs\u001b[0m\u001b[0;34m,\u001b[0m\u001b[0;34m\u001b[0m\u001b[0;34m\u001b[0m\u001b[0m\n\u001b[0;32m--> 149\u001b[0;31m         allow_unreachable=True, accumulate_grad=True)  # allow_unreachable flag\n\u001b[0m\u001b[1;32m    150\u001b[0m \u001b[0;34m\u001b[0m\u001b[0m\n\u001b[1;32m    151\u001b[0m \u001b[0;34m\u001b[0m\u001b[0m\n",
            "\u001b[0;31mKeyboardInterrupt\u001b[0m: "
          ]
        }
      ]
    },
    {
      "cell_type": "code",
      "metadata": {
        "id": "r6LKab66WUBb"
      },
      "source": [
        "#val_dataset = SummerWinterDataset(\n",
        "      #root_summer=config.VAL_DIR+\"/summer\", root_winter=config.VAL_DIR+\"/winter\", \n",
        "      #transform=config.transforms)\n",
        "#val_loader = DataLoader(\n",
        "      #val_dataset,\n",
        "      #batch_size=1,\n",
        "      #shuffle=False,\n",
        "      #pin_memory=True,\n",
        "  #)"
      ],
      "execution_count": null,
      "outputs": []
    },
    {
      "cell_type": "code",
      "metadata": {
        "id": "uc6o7Wc6t05Q"
      },
      "source": [
        "#gen_summer = Generator(img_channels=3, num_residuals=9).to(config.DEVICE)\n",
        "#gen_winter = Generator(img_channels=3, num_residuals=9).to(config.DEVICE)"
      ],
      "execution_count": null,
      "outputs": []
    },
    {
      "cell_type": "code",
      "metadata": {
        "colab": {
          "base_uri": "https://localhost:8080/",
          "height": 286
        },
        "id": "tc4-fnbwtclK",
        "outputId": "9171ea16-a727-4654-9ebd-e18c145eef1f"
      },
      "source": [
        "#import matplotlib.pyplot as plt\n",
        "#image = (val_loader.dataset[5][0]*0.5+0.5)\n",
        "#plt.imshow(image.permute(1, 2, 0))\n",
        "#opt_gen = optim.Adam(\n",
        "      #list(gen_summer.parameters()) + list(gen_winter.parameters()),\n",
        "      #lr=config.LEARNING_RATE,\n",
        "      #betas=(0.5, 0.999),\n",
        "  #)\n",
        "#load_checkpoint(\n",
        "          #config.CHECKPOINT_GEN_WINTER, gen_winter, opt_gen, config.LEARNING_RATE,\n",
        "      #)"
      ],
      "execution_count": null,
      "outputs": [
        {
          "output_type": "stream",
          "text": [
            "=> Loading checkpoint\n"
          ],
          "name": "stdout"
        },
        {
          "output_type": "display_data",
          "data": {
            "image/png": "[encoded data removed]",
            "text/plain": [
              "<Figure size 432x288 with 1 Axes>"
            ]
          },
          "metadata": {
            "tags": [],
            "needs_background": "light"
          }
        }
      ]
    }
  ]
}